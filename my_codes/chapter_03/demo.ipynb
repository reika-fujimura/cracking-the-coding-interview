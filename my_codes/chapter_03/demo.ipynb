{
 "cells": [
  {
   "cell_type": "code",
   "execution_count": 20,
   "metadata": {},
   "outputs": [],
   "source": [
    "class MultiStack:\n",
    "    def __init__(self, num_stack, subarray_length) -> None:\n",
    "        self.array = [0] * (num_stack * subarray_length)\n",
    "        self.stack_length = [0] * num_stack\n",
    "        self.subarray_length = subarray_length\n",
    "\n",
    "    def push(self, stack_no, el):\n",
    "        self.is_full(stack_no)\n",
    "        idx = self.subarray_length * stack_no + self.stack_length[stack_no] \n",
    "        self.array[idx] = el\n",
    "        self.stack_length[stack_no] += 1\n",
    "\n",
    "    def pop(self, stack_no):\n",
    "        self.is_empty(stack_no)\n",
    "        idx = self.subarray_length * stack_no + self.stack_length[stack_no]  - 1\n",
    "        el = self.array[idx]\n",
    "        self.array[idx] = 0\n",
    "        self.stack_length[stack_no] -= 1\n",
    "        return el\n",
    "    \n",
    "    def peek(self, stack_no, el):\n",
    "        self.is_empty(stack_no)\n",
    "        idx = self.subarray_length * stack_no + self.stack_length[stack_no]  - 1\n",
    "        return self.array[idx]\n",
    "\n",
    "    def is_empty(self, stack_no):\n",
    "        if self.stack_length[stack_no]==0:\n",
    "            raise StackIsEmptyError(\"Stack {} is empty\".format(stack_no))\n",
    "\n",
    "    def is_full(self, stack_no):\n",
    "        if self.stack_length[stack_no]==self.subarray_length:\n",
    "            raise StackIsFullError(\"Stack {} is full\".format(stack_no))\n",
    "\n",
    "\n",
    "class StackError(Exception):\n",
    "    '''Stack Error'''\n",
    "\n",
    "class StackIsEmptyError(StackError):\n",
    "    '''Stack is empty'''\n",
    "\n",
    "class StackIsFullError(StackError):\n",
    "    '''Stack is full'''"
   ]
  },
  {
   "cell_type": "code",
   "execution_count": 27,
   "metadata": {},
   "outputs": [],
   "source": [
    "num_stack = 3\n",
    "subarray_length = 10\n",
    "\n",
    "multistack = MultiStack(num_stack,subarray_length)"
   ]
  },
  {
   "cell_type": "code",
   "execution_count": 28,
   "metadata": {},
   "outputs": [
    {
     "data": {
      "text/plain": [
       "[5,\n",
       " 6,\n",
       " 7,\n",
       " 8,\n",
       " 0,\n",
       " 0,\n",
       " 0,\n",
       " 0,\n",
       " 0,\n",
       " 0,\n",
       " 2,\n",
       " 0,\n",
       " 0,\n",
       " 0,\n",
       " 0,\n",
       " 0,\n",
       " 0,\n",
       " 0,\n",
       " 0,\n",
       " 0,\n",
       " 10,\n",
       " 11,\n",
       " 12,\n",
       " 0,\n",
       " 0,\n",
       " 0,\n",
       " 0,\n",
       " 0,\n",
       " 0,\n",
       " 0]"
      ]
     },
     "execution_count": 28,
     "metadata": {},
     "output_type": "execute_result"
    }
   ],
   "source": [
    "multistack.push(1,2)\n",
    "multistack.push(0,5)\n",
    "multistack.push(0,6)\n",
    "multistack.push(0,7)\n",
    "multistack.push(0,8)\n",
    "multistack.push(2,10)\n",
    "multistack.push(2,11)\n",
    "multistack.push(2,12)\n",
    "multistack.array"
   ]
  },
  {
   "cell_type": "code",
   "execution_count": null,
   "metadata": {},
   "outputs": [],
   "source": []
  }
 ],
 "metadata": {
  "kernelspec": {
   "display_name": "Python 3",
   "language": "python",
   "name": "python3"
  },
  "language_info": {
   "codemirror_mode": {
    "name": "ipython",
    "version": 3
   },
   "file_extension": ".py",
   "mimetype": "text/x-python",
   "name": "python",
   "nbconvert_exporter": "python",
   "pygments_lexer": "ipython3",
   "version": "3.7.6"
  }
 },
 "nbformat": 4,
 "nbformat_minor": 4
}
