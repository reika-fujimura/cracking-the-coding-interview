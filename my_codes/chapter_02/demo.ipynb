{
 "cells": [
  {
   "cell_type": "code",
   "execution_count": 1,
   "metadata": {},
   "outputs": [],
   "source": [
    "class Node:\n",
    "    def __init__(self, value):\n",
    "        self.value = value\n",
    "        self.next = None\n",
    "#         self.previous = None\n",
    "    \n",
    "    def __repr__(self):\n",
    "        return self.value\n",
    "\n",
    "\n",
    "class LinkedList:\n",
    "    '''usage\n",
    "    llist = LinkedList([\"a\", \"b\", \"c\", \"d\", \"e\"])\n",
    "    '''\n",
    "    def __init__(self, nodes=None) -> None:\n",
    "        self.head = None\n",
    "        if nodes is not None:\n",
    "            node = Node(value=nodes.pop(0))\n",
    "            self.head = node\n",
    "            for el in nodes:\n",
    "                node.next = Node(value=el)\n",
    "                node = node.next\n",
    "                \n",
    "    def __repr__(self) -> str:\n",
    "        node = self.head\n",
    "        nodes = []\n",
    "        while node is not None:\n",
    "            nodes.append(node.value)\n",
    "            node = node.next\n",
    "        nodes.append('None')\n",
    "        return '->'.join(nodes)\n",
    "    \n",
    "\n",
    "    def __iter__(self):\n",
    "        '''iterator\n",
    "        for node in llist:\n",
    "            print(node)\n",
    "        '''\n",
    "        node = self.head\n",
    "        while node is not None:\n",
    "            yield node\n",
    "            node = node.next\n",
    "\n",
    "    def add_first(self, node):\n",
    "        '''\n",
    "        insert at the beginning\n",
    "        '''\n",
    "        node.next = self.head\n",
    "        self.head = node\n",
    "    \n",
    "    def add_last(self, node):\n",
    "        '''\n",
    "        insert at the last\n",
    "        '''\n",
    "        if self.head is None:\n",
    "            self.head = node\n",
    "            return \n",
    "        else: \n",
    "            for current_node in self:\n",
    "                pass\n",
    "            current_node.next = node\n",
    "\n",
    "    def insert(self, target_node_value, new_node):\n",
    "        '''\n",
    "        insert between two nodes\n",
    "        '''\n",
    "        for current_node in self:\n",
    "            if current_node.value == target_node_value:\n",
    "                new_node.next = current_node.next\n",
    "                current_node.next = new_node\n",
    "                return\n",
    "\n",
    "    def remove(self, target_node_value):\n",
    "        '''\n",
    "        remove an element\n",
    "        '''\n",
    "        if self.head == target_node_value:\n",
    "            self.head = self.head.next\n",
    "            return\n",
    "        previous_node = self.head\n",
    "        for current_node in self:\n",
    "            if current_node.value == target_node_value:\n",
    "                previous_node.next = current_node.next\n",
    "                return\n",
    "            previous_node = current_node\n"
   ]
  },
  {
   "cell_type": "code",
   "execution_count": 76,
   "metadata": {},
   "outputs": [
    {
     "data": {
      "text/plain": [
       "a->b->c->d->e->None"
      ]
     },
     "execution_count": 76,
     "metadata": {},
     "output_type": "execute_result"
    }
   ],
   "source": [
    "llist = LinkedList(nodes=[\"a\", \"b\", \"c\", \"d\", \"e\"])\n",
    "llist"
   ]
  },
  {
   "cell_type": "code",
   "execution_count": 82,
   "metadata": {},
   "outputs": [
    {
     "data": {
      "text/plain": [
       "h->a->b->c->d->e->None"
      ]
     },
     "execution_count": 82,
     "metadata": {},
     "output_type": "execute_result"
    }
   ],
   "source": [
    "node = Node('h')\n",
    "llist.add_first(node)\n",
    "llist"
   ]
  },
  {
   "cell_type": "code",
   "execution_count": 83,
   "metadata": {},
   "outputs": [
    {
     "data": {
      "text/plain": [
       "h->a->b->c->d->e->f->None"
      ]
     },
     "execution_count": 83,
     "metadata": {},
     "output_type": "execute_result"
    }
   ],
   "source": [
    "node = Node('f')\n",
    "llist.add_last(node)\n",
    "llist"
   ]
  },
  {
   "cell_type": "code",
   "execution_count": 84,
   "metadata": {},
   "outputs": [
    {
     "data": {
      "text/plain": [
       "h->a->b->c->d->o->e->f->None"
      ]
     },
     "execution_count": 84,
     "metadata": {},
     "output_type": "execute_result"
    }
   ],
   "source": [
    "target_node_value = 'd'\n",
    "new_node = Node('o')\n",
    "llist.insert(target_node_value, new_node)\n",
    "llist"
   ]
  },
  {
   "cell_type": "code",
   "execution_count": 85,
   "metadata": {},
   "outputs": [
    {
     "data": {
      "text/plain": [
       "h->a->b->c->d->e->f->None"
      ]
     },
     "execution_count": 85,
     "metadata": {},
     "output_type": "execute_result"
    }
   ],
   "source": [
    "target_node_value = 'o'\n",
    "llist.remove(target_node_value)\n",
    "llist"
   ]
  },
  {
   "cell_type": "code",
   "execution_count": 26,
   "metadata": {},
   "outputs": [],
   "source": [
    "class NodeDouble:\n",
    "    def __init__(self, value):\n",
    "        self.value = value\n",
    "        self.next = None\n",
    "        self.previous = None\n",
    "\n",
    "    def __repr__(self):\n",
    "        return self.value\n",
    "\n",
    "class LinkedListDouble:\n",
    "    '''usage\n",
    "    double linked list\n",
    "    llist = LinkedListDouble([\"a\", \"b\", \"c\", \"d\", \"e\"])\n",
    "    '''\n",
    "    def __init__(self, nodes=None) -> None:\n",
    "        self.head = None\n",
    "        self.tail = None\n",
    "        if nodes is not None:\n",
    "            node = NodeDouble(value=nodes.pop(0))\n",
    "            self.head = self.tail = node\n",
    "            for el in nodes:\n",
    "                node.next = NodeDouble(value=el)\n",
    "                node.next.previous = node\n",
    "                node = node.next\n",
    "                self.tail = node\n",
    "                \n",
    "    def __repr__(self) -> str:\n",
    "        node = self.head\n",
    "        nodes = []\n",
    "        while node is not None:\n",
    "            nodes.append(node.value)\n",
    "            node = node.next\n",
    "        nodes.append('None')\n",
    "        nodes = [str(node) for node in nodes]\n",
    "        return '->'.join(nodes)\n",
    "    \n",
    "\n",
    "    def __iter__(self):\n",
    "        '''iterator\n",
    "        for node in llist:\n",
    "            print(node)\n",
    "        '''\n",
    "        node = self.head\n",
    "        while node is not None:\n",
    "            yield node\n",
    "            node = node.next\n"
   ]
  },
  {
   "cell_type": "code",
   "execution_count": 27,
   "metadata": {},
   "outputs": [],
   "source": [
    "llist = LinkedListDouble([\"a\", \"b\", \"c\", \"d\", \"e\"])"
   ]
  },
  {
   "cell_type": "code",
   "execution_count": 28,
   "metadata": {},
   "outputs": [
    {
     "data": {
      "text/plain": [
       "a->b->c->d->e->None"
      ]
     },
     "execution_count": 28,
     "metadata": {},
     "output_type": "execute_result"
    }
   ],
   "source": [
    "llist"
   ]
  },
  {
   "cell_type": "code",
   "execution_count": 42,
   "metadata": {},
   "outputs": [],
   "source": [
    "def partition(ll, val):\n",
    "    current_node = ll.head\n",
    "    end_node = ll.tail\n",
    "\n",
    "    count = 0\n",
    "    while current_node:\n",
    "        print(count, current_node.value)\n",
    "        count += 1\n",
    "        next_node = current_node.next\n",
    "        current_node.next = None\n",
    "        if current_node.value < val:\n",
    "            current_node.next = ll.head\n",
    "            current_node.previous = None\n",
    "            ll.head = current_node\n",
    "        else:\n",
    "            current_node.previous = ll.tail\n",
    "            ll.tail.next = current_node\n",
    "            ll.tail = current_node\n",
    "\n",
    "        if next_node.value == end_node.value:\n",
    "            return\n",
    "\n",
    "        current_node = next_node\n",
    "    \n",
    "    return"
   ]
  },
  {
   "cell_type": "code",
   "execution_count": null,
   "metadata": {},
   "outputs": [],
   "source": [
    "llist = LinkedListDouble([4,7,6,8,4,5,2])\n",
    "val = 5\n",
    "partition(llist, val)\n",
    "llist"
   ]
  },
  {
   "cell_type": "code",
   "execution_count": 33,
   "metadata": {},
   "outputs": [],
   "source": [
    "x = 1\n",
    "y = 2"
   ]
  },
  {
   "cell_type": "code",
   "execution_count": 34,
   "metadata": {},
   "outputs": [
    {
     "name": "stdout",
     "output_type": "stream",
     "text": [
      "2 2 2\n"
     ]
    }
   ],
   "source": [
    "a = x = y\n",
    "print(a,x,y)"
   ]
  },
  {
   "cell_type": "code",
   "execution_count": null,
   "metadata": {},
   "outputs": [],
   "source": []
  },
  {
   "cell_type": "code",
   "execution_count": null,
   "metadata": {},
   "outputs": [],
   "source": []
  },
  {
   "cell_type": "code",
   "execution_count": null,
   "metadata": {},
   "outputs": [],
   "source": []
  }
 ],
 "metadata": {
  "kernelspec": {
   "display_name": "Python 3",
   "language": "python",
   "name": "python3"
  },
  "language_info": {
   "codemirror_mode": {
    "name": "ipython",
    "version": 3
   },
   "file_extension": ".py",
   "mimetype": "text/x-python",
   "name": "python",
   "nbconvert_exporter": "python",
   "pygments_lexer": "ipython3",
   "version": "3.7.6"
  }
 },
 "nbformat": 4,
 "nbformat_minor": 4
}
