{
 "cells": [
  {
   "cell_type": "code",
   "execution_count": 72,
   "metadata": {},
   "outputs": [],
   "source": [
    "class Node:\n",
    "    def __init__(self, value):\n",
    "        self.value = value\n",
    "        self.next = None\n",
    "#         self.previous = None\n",
    "    \n",
    "    def __repr__(self):\n",
    "        return self.value\n",
    "\n",
    "\n",
    "class LinkedList:\n",
    "    '''usage\n",
    "    llist = LinkedList([\"a\", \"b\", \"c\", \"d\", \"e\"])\n",
    "    '''\n",
    "    def __init__(self, nodes=None) -> None:\n",
    "        self.head = None\n",
    "        if nodes is not None:\n",
    "            node = Node(value=nodes.pop(0))\n",
    "            self.head = node\n",
    "            for el in nodes:\n",
    "                node.next = Node(value=el)\n",
    "                node = node.next\n",
    "                \n",
    "    def __repr__(self) -> str:\n",
    "        node = self.head\n",
    "        nodes = []\n",
    "        while node is not None:\n",
    "            nodes.append(node.value)\n",
    "            node = node.next\n",
    "        nodes.append('None')\n",
    "        return '->'.join(nodes)\n",
    "    \n",
    "\n",
    "    def __iter__(self):\n",
    "        '''iterator\n",
    "        for node in llist:\n",
    "            print(node)\n",
    "        '''\n",
    "        node = self.head\n",
    "        while node is not None:\n",
    "            yield node\n",
    "            node = node.next\n",
    "\n",
    "    def add_first(self, node):\n",
    "        '''\n",
    "        insert at the beginning\n",
    "        '''\n",
    "        node.next = self.head\n",
    "        self.head = node\n",
    "    \n",
    "    def add_last(self, node):\n",
    "        '''\n",
    "        insert at the last\n",
    "        '''\n",
    "        if self.head is None:\n",
    "            self.head = node\n",
    "            return \n",
    "        else: \n",
    "            for current_node in self:\n",
    "                pass\n",
    "            current_node.next = node\n",
    "\n",
    "    def insert(self, target_node_value, new_node):\n",
    "        '''\n",
    "        insert between two nodes\n",
    "        '''\n",
    "        for current_node in self:\n",
    "            if current_node.value == target_node_value:\n",
    "                new_node.next = current_node.next\n",
    "                current_node.next = new_node\n",
    "                return\n",
    "\n",
    "    def remove(self, target_node_value):\n",
    "        '''\n",
    "        remove an element\n",
    "        '''\n",
    "        if self.head == target_node_value:\n",
    "            self.head = self.head.next\n",
    "            return\n",
    "        previous_node = self.head\n",
    "        for current_node in self:\n",
    "            if current_node.value == target_node_value:\n",
    "                previous_node.next = current_node.next\n",
    "                return\n",
    "            previous_node = current_node\n"
   ]
  },
  {
   "cell_type": "code",
   "execution_count": 76,
   "metadata": {},
   "outputs": [
    {
     "data": {
      "text/plain": [
       "a->b->c->d->e->None"
      ]
     },
     "execution_count": 76,
     "metadata": {},
     "output_type": "execute_result"
    }
   ],
   "source": [
    "llist = LinkedList(nodes=[\"a\", \"b\", \"c\", \"d\", \"e\"])\n",
    "llist"
   ]
  },
  {
   "cell_type": "code",
   "execution_count": 82,
   "metadata": {},
   "outputs": [
    {
     "data": {
      "text/plain": [
       "h->a->b->c->d->e->None"
      ]
     },
     "execution_count": 82,
     "metadata": {},
     "output_type": "execute_result"
    }
   ],
   "source": [
    "node = Node('h')\n",
    "llist.add_first(node)\n",
    "llist"
   ]
  },
  {
   "cell_type": "code",
   "execution_count": 83,
   "metadata": {},
   "outputs": [
    {
     "data": {
      "text/plain": [
       "h->a->b->c->d->e->f->None"
      ]
     },
     "execution_count": 83,
     "metadata": {},
     "output_type": "execute_result"
    }
   ],
   "source": [
    "node = Node('f')\n",
    "llist.add_last(node)\n",
    "llist"
   ]
  },
  {
   "cell_type": "code",
   "execution_count": 84,
   "metadata": {},
   "outputs": [
    {
     "data": {
      "text/plain": [
       "h->a->b->c->d->o->e->f->None"
      ]
     },
     "execution_count": 84,
     "metadata": {},
     "output_type": "execute_result"
    }
   ],
   "source": [
    "target_node_value = 'd'\n",
    "new_node = Node('o')\n",
    "llist.insert(target_node_value, new_node)\n",
    "llist"
   ]
  },
  {
   "cell_type": "code",
   "execution_count": 85,
   "metadata": {},
   "outputs": [
    {
     "data": {
      "text/plain": [
       "h->a->b->c->d->e->f->None"
      ]
     },
     "execution_count": 85,
     "metadata": {},
     "output_type": "execute_result"
    }
   ],
   "source": [
    "target_node_value = 'o'\n",
    "llist.remove(target_node_value)\n",
    "llist"
   ]
  },
  {
   "cell_type": "code",
   "execution_count": 89,
   "metadata": {},
   "outputs": [],
   "source": [
    "def remove_dups(ll):\n",
    "    current = ll.head\n",
    "    previous = None\n",
    "    seen = set()\n",
    "\n",
    "    while current:\n",
    "        if current.value in seen:\n",
    "            previous.next = current.next\n",
    "        else:\n",
    "            seen.add(current.value)\n",
    "            previous = current\n",
    "        current = current.next\n",
    "\n",
    "    return ll"
   ]
  },
  {
   "cell_type": "code",
   "execution_count": 90,
   "metadata": {},
   "outputs": [
    {
     "data": {
      "text/plain": [
       "a->b->c->d->e->None"
      ]
     },
     "execution_count": 90,
     "metadata": {},
     "output_type": "execute_result"
    }
   ],
   "source": [
    "llist = LinkedList(nodes=[\"a\", \"a\", \"b\", \"c\", \"a\", \"b\", \"d\", \"e\"])\n",
    "llist_unique = remove_dups(llist)\n",
    "llist_unique"
   ]
  },
  {
   "cell_type": "code",
   "execution_count": 88,
   "metadata": {},
   "outputs": [],
   "source": []
  },
  {
   "cell_type": "code",
   "execution_count": null,
   "metadata": {},
   "outputs": [],
   "source": []
  }
 ],
 "metadata": {
  "kernelspec": {
   "display_name": "Python 3",
   "language": "python",
   "name": "python3"
  },
  "language_info": {
   "codemirror_mode": {
    "name": "ipython",
    "version": 3
   },
   "file_extension": ".py",
   "mimetype": "text/x-python",
   "name": "python",
   "nbconvert_exporter": "python",
   "pygments_lexer": "ipython3",
   "version": "3.7.6"
  }
 },
 "nbformat": 4,
 "nbformat_minor": 4
}
